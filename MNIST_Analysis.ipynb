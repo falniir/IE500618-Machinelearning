{
  "nbformat": 4,
  "nbformat_minor": 0,
  "metadata": {
    "colab": {
      "provenance": [],
      "collapsed_sections": [],
      "toc_visible": true,
      "authorship_tag": "ABX9TyOaoWrkvS2+xKQnMn6VVklr",
      "include_colab_link": true
    },
    "kernelspec": {
      "name": "python3",
      "display_name": "Python 3"
    },
    "language_info": {
      "name": "python"
    }
  },
  "cells": [
    {
      "cell_type": "markdown",
      "metadata": {
        "id": "view-in-github",
        "colab_type": "text"
      },
      "source": [
        "<a href=\"https://colab.research.google.com/github/falniir/IE500618-Machinelearning/blob/master/MNIST_Analysis.ipynb\" target=\"_parent\"><img src=\"https://colab.research.google.com/assets/colab-badge.svg\" alt=\"Open In Colab\"/></a>"
      ]
    },
    {
      "cell_type": "markdown",
      "source": [
        "### This following Notebook analyses the MNIST dataset\n",
        " The MNIST dataset is a large database of handwritten digits that is commonly used for training various image processing systems. The database is also widely used for training and testing in the field of machine learning. It was created by \"re-mixing\" the samples from NIST's original datasets. The creators felt that since NIST's training dataset was taken from American Census Bureau employees, while the testing dataset was taken from American high school students, it was not well-suited for machine learning experiments. Furthermore, the black and white images from NIST were normalized to fit into a 28x28 pixel bounding box and anti-aliased, which introduced grayscale levels.\n",
        "\n",
        "### The goal for this assiment is to build a distributed machine learning model that can classify the MNIST dataset with a high accuracy.\n",
        " The model will divide the MNIST data into 3 local sections as follows:\n",
        " - By digits: 0-2, 3-5, and 5-9 (vertical slicing – by columns)\n",
        " - By writers (horizontal slicing – by rows)"
      ],
      "metadata": {
        "id": "s2HItRXj0RJS"
      }
    },
    {
      "cell_type": "code",
      "execution_count": null,
      "metadata": {
        "id": "Qog1Ed_GiEi0",
        "colab": {
          "base_uri": "https://localhost:8080/",
          "height": 275
        },
        "outputId": "6e77dfa1-73be-4b37-b4eb-ebbfb0cba8c9"
      },
      "outputs": [
        {
          "output_type": "stream",
          "name": "stdout",
          "text": [
            "Downloading data from https://storage.googleapis.com/tensorflow/tf-keras-datasets/mnist.npz\n",
            "11490434/11490434 [==============================] - 0s 0us/step\n"
          ]
        },
        {
          "output_type": "display_data",
          "data": {
            "text/plain": [
              "<Figure size 432x288 with 10 Axes>"
            ],
            "image/png": "[encoded data removed]"
          },
          "metadata": {
            "needs_background": "light"
          }
        }
      ],
      "source": [
        "#Importing MNIST\n",
        "from keras.datasets import mnist\n",
        "#Importing numpy\n",
        "import numpy as np\n",
        "#Importing matplotlib\n",
        "import matplotlib.pyplot as plt\n",
        "#Importing pandas\n",
        "import pandas as pd\n",
        "\n",
        "#Importing KNN\n",
        "from sklearn.neighbors import KNeighborsClassifier\n",
        "#Importing cross validation\n",
        "from sklearn.model_selection import cross_val_score\n",
        "#Importing cross validation\n",
        "from sklearn.model_selection import cross_val_predict\n",
        "#Importing confusion matrix\n",
        "from sklearn.metrics import confusion_matrix\n",
        "\n",
        "#Visualise Mnist\n",
        "def visualise_mnist():\n",
        "    #Loading MNIST\n",
        "    (X_train, y_train), (X_test, y_test) = mnist.load_data()\n",
        "    #Plotting the first 10 images\n",
        "    for i in range(10):\n",
        "        plt.subplot(2,5,i+1)\n",
        "        plt.imshow(X_train[i], cmap='gray', interpolation='none')\n",
        "        plt.title(\"Class {}\".format(y_train[i]))\n",
        "    plt.show()\n",
        "    \n",
        "\n",
        "visualise_mnist()\n"
      ]
    },
    {
      "cell_type": "code",
      "source": [
        "#Splitting the MNIST dataset by digits: 0-2, 3-5, and 5-9 (vertical slicing – by columns)\n",
        "# Output training and test sets for each dataset of digits\n",
        "def split_mnist():\n",
        "    (X_train, y_train), (X_test, y_test) = mnist.load_data()\n",
        "\n",
        "    y_train_0_2 = np.array([y_train[i] for i in range(len(y_train)) if y_train[i] < 3])\n",
        "    y_train_3_5 = np.array([y_train[i] for i in range(len(y_train)) if y_train[i] > 2 and y_train[i] < 6])\n",
        "    y_train_6_9 = np.array([y_train[i] for i in range(len(y_train)) if y_train[i] > 5])\n",
        "\n",
        "    y_test_0_2 = np.array([y_test[i] for i in range(len(y_test)) if y_test[i] < 3])\n",
        "    y_test_3_5 = np.array([y_test[i] for i in range(len(y_test)) if y_test[i] > 2 and y_test[i] < 6])\n",
        "    y_test_6_9 = np.array([y_test[i] for i in range(len(y_test)) if y_test[i] > 5])\n",
        "\n",
        "    X_train_0_2 = np.array([X_train[i] for i in range(len(y_train)) if y_train[i] < 3])\n",
        "    X_train_3_5 = np.array([X_train[i] for i in range(len(y_train)) if y_train[i] > 2 and y_train[i] < 6])\n",
        "    X_train_6_9 = np.array([X_train[i] for i in range(len(y_train)) if y_train[i] > 5])\n",
        "\n",
        "    X_test_0_2 = np.array([X_test[i] for i in range(len(y_test)) if y_test[i] < 3])\n",
        "    X_test_3_5 = np.array([X_test[i] for i in range(len(y_test)) if y_test[i] > 2 and y_test[i] < 6])\n",
        "    X_test_6_9 = np.array([X_test[i] for i in range(len(y_test)) if y_test[i] > 5])\n",
        "    \n",
        "    #printing the shapes of the training and test sets\n",
        "    print(\"X_train_0_2 shape: \", X_train_0_2.shape)\n",
        "    print(\"y_train_0_2 shape: \", y_train_0_2.shape)\n",
        "    print(\"X_test_0_2 shape: \", X_test_0_2.shape)\n",
        "    print(\"y_test_0_2 shape: \", y_test_0_2.shape)\n",
        "\n",
        "    print(\"X_train_3_5 shape: \", X_train_3_5.shape)\n",
        "    print(\"y_train_3_5 shape: \", y_train_3_5.shape)\n",
        "    print(\"X_test_3_5 shape: \", X_test_3_5.shape)\n",
        "    print(\"y_test_3_5 shape: \", y_test_3_5.shape)\n",
        "\n",
        "    print(\"X_train_6_9 shape: \", X_train_6_9.shape)\n",
        "    print(\"y_train_6_9 shape: \", y_train_6_9.shape)\n",
        "    print(\"X_test_6_9 shape: \", X_test_6_9.shape)\n",
        "    print(\"y_test_6_9 shape: \", y_test_6_9.shape)\n",
        "    \n",
        "\n",
        "    return (X_train_0_2, y_train_0_2), (X_test_0_2, y_test_0_2), (X_train_3_5, y_train_3_5), (X_test_3_5, y_test_3_5), (X_train_6_9, y_train_6_9), (X_test_6_9, y_test_6_9)\n",
        "\n",
        "\n",
        "\n",
        "def visualise_split_mnist():\n",
        "    (X_train_0_2, y_train_0_2), (X_test_0_2, y_test_0_2), (X_train_3_5, y_train_3_5), (X_test_3_5, y_test_3_5), (X_train_6_9, y_train_6_9), (X_test_6_9, y_test_6_9) = split_mnist()\n",
        "\n",
        "    #Plotting the first 10 images\n",
        "    for i in range(10):\n",
        "        plt.subplot(2,5,i+1)\n",
        "        plt.imshow(X_train_0_2[i], cmap='gray', interpolation='none')\n",
        "        plt.title(\"Class {}\".format(y_train_0_2[i]))\n",
        "    plt.show()\n",
        "\n",
        "    #Plotting the first 10 images\n",
        "    for i in range(10):\n",
        "        plt.subplot(2,5,i+1)\n",
        "        plt.imshow(X_train_3_5[i], cmap='gray', interpolation='none')\n",
        "        plt.title(\"Class {}\".format(y_train_3_5[i]))\n",
        "    plt.show()\n",
        "\n",
        "    #Plotting the first 10 images\n",
        "    for i in range(10):\n",
        "        plt.subplot(2,5,i+1)\n",
        "        plt.imshow(X_train_6_9[i], cmap='gray', interpolation='none')\n",
        "        plt.title(\"Class {}\".format(y_train_6_9[i]))\n",
        "    plt.show()\n",
        "\n",
        "\n",
        "\n",
        "\n",
        "split_mnist()\n",
        "visualise_split_mnist()"
      ],
      "metadata": {
        "colab": {
          "base_uri": "https://localhost:8080/",
          "height": 1000
        },
        "id": "qhDbhHzAGNfd",
        "outputId": "63494481-36eb-477a-dc26-ea04d9d053ca"
      },
      "execution_count": null,
      "outputs": [
        {
          "output_type": "stream",
          "name": "stdout",
          "text": [
            "X_train_0_2 shape:  (18623, 28, 28)\n",
            "y_train_0_2 shape:  (18623,)\n",
            "X_test_0_2 shape:  (3147, 28, 28)\n",
            "y_test_0_2 shape:  (3147,)\n",
            "X_train_3_5 shape:  (17394, 28, 28)\n",
            "y_train_3_5 shape:  (17394,)\n",
            "X_test_3_5 shape:  (2884, 28, 28)\n",
            "y_test_3_5 shape:  (2884,)\n",
            "X_train_6_9 shape:  (23983, 28, 28)\n",
            "y_train_6_9 shape:  (23983,)\n",
            "X_test_6_9 shape:  (3969, 28, 28)\n",
            "y_test_6_9 shape:  (3969,)\n",
            "X_train_0_2 shape:  (18623, 28, 28)\n",
            "y_train_0_2 shape:  (18623,)\n",
            "X_test_0_2 shape:  (3147, 28, 28)\n",
            "y_test_0_2 shape:  (3147,)\n",
            "X_train_3_5 shape:  (17394, 28, 28)\n",
            "y_train_3_5 shape:  (17394,)\n",
            "X_test_3_5 shape:  (2884, 28, 28)\n",
            "y_test_3_5 shape:  (2884,)\n",
            "X_train_6_9 shape:  (23983, 28, 28)\n",
            "y_train_6_9 shape:  (23983,)\n",
            "X_test_6_9 shape:  (3969, 28, 28)\n",
            "y_test_6_9 shape:  (3969,)\n"
          ]
        },
        {
          "output_type": "display_data",
          "data": {
            "text/plain": [
              "<Figure size 432x288 with 10 Axes>"
            ],
            "image/png": "[encoded data removed]"
          },
          "metadata": {
            "needs_background": "light"
          }
        },
        {
          "output_type": "display_data",
          "data": {
            "text/plain": [
              "<Figure size 432x288 with 10 Axes>"
            ],
            "image/png": "[encoded data removed]"
          },
          "metadata": {
            "needs_background": "light"
          }
        },
        {
          "output_type": "display_data",
          "data": {
            "text/plain": [
              "<Figure size 432x288 with 10 Axes>"
            ],
            "image/png": "[encoded data removed]"
          },
          "metadata": {
            "needs_background": "light"
          }
        }
      ]
    },
    {
      "cell_type": "code",
      "source": [
        "from keras.models import Sequential\n",
        "from keras.layers import Dense, Dropout, Flatten\n",
        "from matplotlib.colors import ListedColormap\n",
        "from sklearn.metrics import confusion_matrix\n",
        "\n",
        "#Build a neural network model\n",
        "def build_model():\n",
        "    model = Sequential()\n",
        "    model.add(Flatten(input_shape=(28, 28)))\n",
        "    model.add(Dense(128, activation='relu'))\n",
        "    model.add(Dropout(0.2))\n",
        "    model.add(Dense(10, activation='softmax'))\n",
        "    model.compile(optimizer='adam',\n",
        "                  loss='sparse_categorical_crossentropy',\n",
        "                  metrics=['accuracy'])\n",
        "    model.summary()\n",
        "    return model\n",
        "\n",
        "#Train the datasets\n",
        "def train_datasets():\n",
        "    (X_train_0_2, y_train_0_2), (X_test_0_2, y_test_0_2), (X_train_3_5, y_train_3_5), (X_test_3_5, y_test_3_5), (X_train_6_9, y_train_6_9), (X_test_6_9, y_test_6_9) = split_mnist()\n",
        "    model = build_model()\n",
        "    model.fit(X_train_0_2, y_train_0_2, epochs=5)\n",
        "    model.fit(X_train_3_5, y_train_3_5, epochs=5)\n",
        "    model.fit(X_train_6_9, y_train_6_9, epochs=5)\n",
        "    model.evaluate(X_test_0_2, y_test_0_2)\n",
        "    model.evaluate(X_test_3_5, y_test_3_5)\n",
        "    model.evaluate(X_test_6_9, y_test_6_9)\n",
        "    model.predict(X_test_0_2)\n",
        "    model.predict(X_test_3_5)\n",
        "    model.predict(X_test_6_9)\n",
        "    return model\n",
        "    \n",
        "\n",
        "def build_global_model():\n",
        "    model = Sequential()\n",
        "    model.add(Flatten(input_shape=(28, 28)))\n",
        "    model.add(Dense(128, activation='relu'))\n",
        "    model.add(Dropout(0.2))\n",
        "    model.add(Dense(10, activation='softmax'))\n",
        "    model.compile(optimizer='adam',\n",
        "                  loss='sparse_categorical_crossentropy',\n",
        "                  metrics=['accuracy'])\n",
        "    model.summary()\n",
        "    return model\n",
        "\n",
        "def train_global_model():\n",
        "    (X_train, y_train), (X_test, y_test) = mnist.load_data()\n",
        "    model = build_global_model()\n",
        "    model.fit(X_train, y_train, epochs=5)\n",
        "    model.evaluate(X_test, y_test)\n",
        "    model.predict(X_test)\n",
        "    return model\n",
        "\n",
        "\n",
        "\n",
        "global_model = train_global_model()\n",
        "local_model = train_datasets()\n",
        "\n",
        "\n",
        "    \n",
        "    \n",
        "\n",
        "\n"
      ],
      "metadata": {
        "colab": {
          "base_uri": "https://localhost:8080/"
        },
        "id": "foLE7caKZmYy",
        "outputId": "ddf95ef6-8d54-457a-e051-8742f488fb2e"
      },
      "execution_count": null,
      "outputs": [
        {
          "output_type": "stream",
          "name": "stdout",
          "text": [
            "Model: \"sequential\"\n",
            "_________________________________________________________________\n",
            " Layer (type)                Output Shape              Param #   \n",
            "=================================================================\n",
            " flatten (Flatten)           (None, 784)               0         \n",
            "                                                                 \n",
            " dense (Dense)               (None, 128)               100480    \n",
            "                                                                 \n",
            " dropout (Dropout)           (None, 128)               0         \n",
            "                                                                 \n",
            " dense_1 (Dense)             (None, 10)                1290      \n",
            "                                                                 \n",
            "=================================================================\n",
            "Total params: 101,770\n",
            "Trainable params: 101,770\n",
            "Non-trainable params: 0\n",
            "_________________________________________________________________\n",
            "Epoch 1/5\n",
            "1875/1875 [==============================] - 7s 3ms/step - loss: 2.4808 - accuracy: 0.7625\n",
            "Epoch 2/5\n",
            "1875/1875 [==============================] - 7s 4ms/step - loss: 0.5949 - accuracy: 0.8444\n",
            "Epoch 3/5\n",
            "1875/1875 [==============================] - 6s 3ms/step - loss: 0.4820 - accuracy: 0.8730\n",
            "Epoch 4/5\n",
            "1875/1875 [==============================] - 6s 3ms/step - loss: 0.4240 - accuracy: 0.8904\n",
            "Epoch 5/5\n",
            "1875/1875 [==============================] - 6s 3ms/step - loss: 0.3913 - accuracy: 0.9006\n",
            "313/313 [==============================] - 1s 2ms/step - loss: 0.3198 - accuracy: 0.9342\n",
            "313/313 [==============================] - 1s 2ms/step\n",
            "Model: \"sequential_1\"\n",
            "_________________________________________________________________\n",
            " Layer (type)                Output Shape              Param #   \n",
            "=================================================================\n",
            " flatten_1 (Flatten)         (None, 784)               0         \n",
            "                                                                 \n",
            " dense_2 (Dense)             (None, 128)               100480    \n",
            "                                                                 \n",
            " dropout_1 (Dropout)         (None, 128)               0         \n",
            "                                                                 \n",
            " dense_3 (Dense)             (None, 10)                1290      \n",
            "                                                                 \n",
            "=================================================================\n",
            "Total params: 101,770\n",
            "Trainable params: 101,770\n",
            "Non-trainable params: 0\n",
            "_________________________________________________________________\n",
            "Epoch 1/5\n",
            "582/582 [==============================] - 2s 3ms/step - loss: 2.1466 - accuracy: 0.9707\n",
            "Epoch 2/5\n",
            "582/582 [==============================] - 3s 5ms/step - loss: 0.3131 - accuracy: 0.9882\n",
            "Epoch 3/5\n",
            "582/582 [==============================] - 2s 4ms/step - loss: 0.1202 - accuracy: 0.9902\n",
            "Epoch 4/5\n",
            "582/582 [==============================] - 2s 3ms/step - loss: 0.0914 - accuracy: 0.9919\n",
            "Epoch 5/5\n",
            "582/582 [==============================] - 2s 3ms/step - loss: 0.1287 - accuracy: 0.9902\n",
            "Epoch 1/5\n",
            "544/544 [==============================] - 2s 3ms/step - loss: 1.2580 - accuracy: 0.8631\n",
            "Epoch 2/5\n",
            "544/544 [==============================] - 2s 3ms/step - loss: 0.1701 - accuracy: 0.9449\n",
            "Epoch 3/5\n",
            "544/544 [==============================] - 2s 3ms/step - loss: 0.1351 - accuracy: 0.9582\n",
            "Epoch 4/5\n",
            "544/544 [==============================] - 2s 3ms/step - loss: 0.1204 - accuracy: 0.9610\n",
            "Epoch 5/5\n",
            "544/544 [==============================] - 2s 3ms/step - loss: 0.1120 - accuracy: 0.9654\n",
            "Epoch 1/5\n",
            "750/750 [==============================] - 2s 3ms/step - loss: 1.7813 - accuracy: 0.3917\n",
            "Epoch 2/5\n",
            "750/750 [==============================] - 2s 3ms/step - loss: 0.7981 - accuracy: 0.7353\n",
            "Epoch 3/5\n",
            "750/750 [==============================] - 2s 3ms/step - loss: 0.5545 - accuracy: 0.8270\n",
            "Epoch 4/5\n",
            "750/750 [==============================] - 2s 3ms/step - loss: 0.4807 - accuracy: 0.8451\n",
            "Epoch 5/5\n",
            "750/750 [==============================] - 2s 3ms/step - loss: 0.4609 - accuracy: 0.8504\n",
            "99/99 [==============================] - 0s 2ms/step - loss: 28.3796 - accuracy: 3.1776e-04\n",
            "91/91 [==============================] - 0s 2ms/step - loss: 31.7188 - accuracy: 0.0031\n",
            "125/125 [==============================] - 0s 2ms/step - loss: 0.2376 - accuracy: 0.9514\n",
            "99/99 [==============================] - 0s 2ms/step\n",
            "91/91 [==============================] - 0s 2ms/step\n",
            "125/125 [==============================] - 0s 2ms/step\n"
          ]
        }
      ]
    },
    {
      "cell_type": "code",
      "source": [
        " \n",
        "#Confusion matrix of the global model\n",
        "def confusion_matrix_global_model():\n",
        "    (X_train, y_train), (X_test, y_test) = mnist.load_data()\n",
        "    y_pred = global_model.predict(X_test)\n",
        "    y_pred = np.argmax(y_pred, axis=1)\n",
        "    cm = confusion_matrix(y_test, y_pred)\n",
        "    print(cm)\n",
        "\n",
        "\n",
        "#Confusion matrix of the local models\n",
        "def confusion_matrix_local_models():\n",
        "    \n",
        "    cmap = ListedColormap(['lightgrey', 'silver', 'ghostwhite', 'lavender', 'wheat'])\n",
        "\n",
        "    (X_train_0_2, y_train_0_2), (X_test_0_2, y_test_0_2), (X_train_3_5, y_train_3_5), (X_test_3_5, y_test_3_5), (X_train_6_9, y_train_6_9), (X_test_6_9, y_test_6_9) = split_mnist()\n",
        "    y_pred_0_2 = local_model.predict(X_test_0_2)\n",
        "    y_pred_0_2 = np.argmax(y_pred_0_2, axis=1)\n",
        "    cm_0_2 = confusion_matrix(y_test_0_2, y_pred_0_2)\n",
        "\n",
        "\n",
        "    plt.matshow(cm_0_2, cmap=cmap)\n",
        "    plt.colorbar()\n",
        "    plt.ylabel('True label')\n",
        "    plt.xlabel('Predicted label')\n",
        "    plt.show()\n",
        "\n",
        "    y_pred_3_5 = local_model.predict(X_test_3_5)\n",
        "    y_pred_3_5 = np.argmax(y_pred_3_5, axis=1)\n",
        "    cm_3_5 = confusion_matrix(y_test_3_5, y_pred_3_5)\n",
        "    plt.matshow(cm_3_5, cmap=cmap)\n",
        "    plt.colorbar()\n",
        "    plt.ylabel('True label')\n",
        "    plt.xlabel('Predicted label')\n",
        "    plt.show()\n",
        "\n",
        "\n",
        "    y_pred_6_9 = local_model.predict(X_test_6_9)\n",
        "    y_pred_6_9 = np.argmax(y_pred_6_9, axis=1)\n",
        "    cm_6_9 = confusion_matrix(y_test_6_9, y_pred_6_9)\n",
        "    plt.matshow(cm_6_9, cmap=cmap)\n",
        "    plt.colorbar()\n",
        "    plt.ylabel('True label')\n",
        "    plt.xlabel('Predicted label')\n",
        "    plt.show()\n",
        "\n",
        "\n",
        "#Precision of the global model\n",
        "def precision_global_model():\n",
        "    (X_train, y_train), (X_test, y_test) = mnist.load_data()\n",
        "    y_pred = global_model.predict(X_test)\n",
        "    y_pred = np.argmax(y_pred, axis=1)\n",
        "    cm = confusion_matrix(y_test, y_pred)\n",
        "    precision = np.diag(cm) / np.sum(cm, axis = 0)\n",
        "    print(precision)\n",
        "\n",
        "#Precision of the local models\n",
        "def precision_local_models():\n",
        "    (X_train_0_2, y_train_0_2), (X_test_0_2, y_test_0_2), (X_train_3_5, y_train_3_5), (X_test_3_5, y_test_3_5), (X_train_6_9, y_train_6_9), (X_test_6_9, y_test_6_9) = split_mnist()\n",
        "    y_pred_0_2 = local_model.predict(X_test_0_2)\n",
        "    y_pred_0_2 = np.argmax(y_pred_0_2, axis=1)\n",
        "    cm_0_2 = confusion_matrix(y_test_0_2, y_pred_0_2)\n",
        "    precision_0_2 = np.diag(cm_0_2) / np.sum(cm_0_2, axis = 0)\n",
        "    print(precision_0_2)\n",
        "\n",
        "    y_pred_3_5 = local_model.predict(X_test_3_5)\n",
        "    y_pred_3_5 = np.argmax(y_pred_3_5, axis=1)\n",
        "    cm_3_5 = confusion_matrix(y_test_3_5, y_pred_3_5)\n",
        "    precision_3_5 = np.diag(cm_3_5) / np.sum(cm_3_5, axis = 0)\n",
        "    print(precision_3_5)\n",
        "\n",
        "    y_pred_6_9 = local_model.predict(X_test_6_9)\n",
        "    y_pred_6_9 = np.argmax(y_pred_6_9, axis=1)\n",
        "    cm_6_9 = confusion_matrix(y_test_6_9, y_pred_6_9)\n",
        "    precision_6_9 = np.diag(cm_6_9) / np.sum(cm_6_9, axis = 0)\n",
        "    print(precision_6_9)\n",
        "\n",
        "#Recall of the global model\n",
        "def recall_global_model():\n",
        "    (X_train, y_train), (X_test, y_test) = mnist.load_data()\n",
        "    y_pred = global_model.predict(X_test)\n",
        "    y_pred = np.argmax(y_pred, axis=1)\n",
        "    cm = confusion_matrix(y_test, y_pred)\n",
        "    recall = np.diag(cm) / np.sum(cm, axis = 1)\n",
        "    print(recall)\n",
        "\n",
        "#Recall of the local models\n",
        "def recall_local_models():\n",
        "    (X_train_0_2, y_train_0_2), (X_test_0_2, y_test_0_2), (X_train_3_5, y_train_3_5), (X_test_3_5, y_test_3_5), (X_train_6_9, y_train_6_9), (X_test_6_9, y_test_6_9) = split_mnist()\n",
        "    y_pred_0_2 = local_model.predict(X_test_0_2)\n",
        "    y_pred_0_2 = np.argmax(y_pred_0_2, axis=1)\n",
        "    cm_0_2 = confusion_matrix(y_test_0_2, y_pred_0_2)\n",
        "    recall_0_2 = np.diag(cm_0_2) / np.sum(cm_0_2, axis = 1)\n",
        "    print(recall_0_2)\n",
        "\n",
        "    y_pred_3_5 = local_model.predict(X_test_3_5)\n",
        "    y_pred_3_5 = np.argmax(y_pred_3_5, axis=1)\n",
        "    cm_3_5 = confusion_matrix(y_test_3_5, y_pred_3_5)\n",
        "    recall_3_5 = np.diag(cm_3_5) / np.sum(cm_3_5, axis = 1)\n",
        "    print(recall_3_5)\n",
        "\n",
        "    y_pred_6_9 = local_model.predict(X_test_6_9)\n",
        "    y_pred_6_9 = np.argmax(y_pred_6_9, axis=1)\n",
        "    cm_6_9 = confusion_matrix(y_test_6_9, y_pred_6_9)\n",
        "    recall_6_9 = np.diag(cm_6_9) / np.sum(cm_6_9, axis = 1)\n",
        "    print(recall_6_9)\n",
        "\n",
        "\n",
        "\n",
        "confusion_matrix_global_model()\n",
        "confusion_matrix_local_models()\n",
        "precision_global_model()\n",
        "precision_local_models()\n",
        "recall_global_model()\n",
        "recall_local_models()"
      ],
      "metadata": {
        "colab": {
          "base_uri": "https://localhost:8080/",
          "height": 1000
        },
        "id": "n4jQQtnsrEKR",
        "outputId": "60fda434-3613-4a44-9b0f-f94c6bb63408"
      },
      "execution_count": null,
      "outputs": [
        {
          "output_type": "stream",
          "name": "stdout",
          "text": [
            "313/313 [==============================] - 1s 2ms/step\n",
            "[[ 963    0    0    0    0    2    5    0    9    1]\n",
            " [   0 1113    2    2    0    1    4    0   13    0]\n",
            " [   6    1  951   13    2    2    1    8   48    0]\n",
            " [   2    0   12  912    0   17    0    8   48   11]\n",
            " [   1    2   25    1  868    0   13    1   25   46]\n",
            " [   7    0    0   26    0  804   21    0   26    8]\n",
            " [   9    2    4    1    5    2  925    0   10    0]\n",
            " [   4    3   19    6    4    0    0  951   12   29]\n",
            " [   8    2    3    3    6   13    9    0  910   20]\n",
            " [   6    4    2    9   12    2    1    5   23  945]]\n",
            "99/99 [==============================] - 0s 2ms/step\n"
          ]
        },
        {
          "output_type": "display_data",
          "data": {
            "text/plain": [
              "<Figure size 288x288 with 2 Axes>"
            ],
            "image/png": "[encoded data removed]"
          },
          "metadata": {
            "needs_background": "light"
          }
        },
        {
          "output_type": "stream",
          "name": "stdout",
          "text": [
            "91/91 [==============================] - 0s 2ms/step\n"
          ]
        },
        {
          "output_type": "display_data",
          "data": {
            "text/plain": [
              "<Figure size 288x288 with 2 Axes>"
            ],
            "image/png": "[encoded data removed]"
          },
          "metadata": {
            "needs_background": "light"
          }
        },
        {
          "output_type": "stream",
          "name": "stdout",
          "text": [
            "125/125 [==============================] - 0s 2ms/step\n"
          ]
        },
        {
          "output_type": "display_data",
          "data": {
            "text/plain": [
              "<Figure size 288x288 with 2 Axes>"
            ],
            "image/png": "[encoded data removed]"
          },
          "metadata": {
            "needs_background": "light"
          }
        },
        {
          "output_type": "stream",
          "name": "stdout",
          "text": [
            "313/313 [==============================] - 1s 2ms/step\n",
            "[0.95725646 0.98757764 0.93418468 0.9373073  0.96767001 0.95373665\n",
            " 0.94484168 0.97738952 0.80960854 0.89150943]\n",
            "99/99 [==============================] - 0s 2ms/step\n",
            "[nan  1. nan  0.  0.  0.  0.  0.]\n",
            "53/91 [================>.............] - ETA: 0s"
          ]
        },
        {
          "output_type": "stream",
          "name": "stderr",
          "text": [
            "/usr/local/lib/python3.7/dist-packages/ipykernel_launcher.py:62: RuntimeWarning: invalid value encountered in true_divide\n"
          ]
        },
        {
          "output_type": "stream",
          "name": "stdout",
          "text": [
            "91/91 [==============================] - 0s 2ms/step\n",
            "[ 1. nan  1.  0.  0.  0.  0.]\n",
            " 53/125 [===========>..................] - ETA: 0s"
          ]
        },
        {
          "output_type": "stream",
          "name": "stderr",
          "text": [
            "/usr/local/lib/python3.7/dist-packages/ipykernel_launcher.py:68: RuntimeWarning: invalid value encountered in true_divide\n"
          ]
        },
        {
          "output_type": "stream",
          "name": "stdout",
          "text": [
            "125/125 [==============================] - 0s 2ms/step\n",
            "[0.94277108 0.97425743 0.91826438 0.97016461]\n",
            "313/313 [==============================] - 1s 2ms/step\n",
            "[0.98265306 0.98061674 0.92151163 0.9029703  0.88391039 0.90134529\n",
            " 0.96555324 0.92509728 0.93429158 0.93657086]\n",
            "99/99 [==============================] - 0s 2ms/step\n",
            "[0.         0.00088106 0.                nan        nan        nan\n",
            "        nan        nan]\n",
            "53/91 [================>.............] - ETA: 0s"
          ]
        },
        {
          "output_type": "stream",
          "name": "stderr",
          "text": [
            "/usr/local/lib/python3.7/dist-packages/ipykernel_launcher.py:92: RuntimeWarning: invalid value encountered in true_divide\n"
          ]
        },
        {
          "output_type": "stream",
          "name": "stdout",
          "text": [
            "91/91 [==============================] - 0s 2ms/step\n",
            "[0.0009901  0.         0.00896861        nan        nan        nan\n",
            "        nan]\n",
            " 59/125 [=============>................] - ETA: 0s"
          ]
        },
        {
          "output_type": "stream",
          "name": "stderr",
          "text": [
            "/usr/local/lib/python3.7/dist-packages/ipykernel_launcher.py:98: RuntimeWarning: invalid value encountered in true_divide\n"
          ]
        },
        {
          "output_type": "stream",
          "name": "stdout",
          "text": [
            "125/125 [==============================] - 0s 2ms/step\n",
            "[0.98016701 0.95719844 0.93429158 0.9345887 ]\n"
          ]
        }
      ]
    },
    {
      "cell_type": "markdown",
      "source": [
        "#Remarks and conclusion\n",
        "The following models were built using the following parameters:\n",
        "- 3 local models\n",
        "- 1 global model\n",
        "- 5 epochs\n",
        "- 0.001 learning rate\n",
        "- The Neural Network architecture is as follows:\n",
        "    - 2 hidden layers with 128 neurons each\n",
        "    - 1 output layer with 10 neurons\n",
        "    - ReLU activation function\n",
        "    - Softmax activation function\n",
        "    - Cross entropy loss function\n",
        "    - Adam optimizer\n",
        "- The data was divided into 3 local sections as follows:\n",
        "    - By digits: 0-2, 3-5, and 5-9 (vertical slicing – by columns)\n",
        "    - By writers (horizontal slicing – by rows)\n",
        "\n",
        "- Ideally the Neural Network achitecture for the local models should have an output layer of amount of classes in the local data (3 classes in the first local model, 3 classes in the second local model, and 4 classes in the third local model). However, the output layer was set to 10 classes in order to be able to use the global model. The global model will have an output layer of 10 classes as well. Which meant that I would have to create a new Neural Network architecture for the local models. I did not have enough time to do so.\n",
        "\n",
        "- The MNIST dataset is quite balanced only deviating by 1% in the amount of samples per class. This means that the local models will be trained equally. Which also means that the splitting is also balanced, and the local models will be trained equally.\n",
        "\n",
        "\n",
        "The following results were obtained:\n",
        "- The global model was able to classify the MNIST dataset with an accuracy of 0.9342\n",
        "- The local models were able to classify the MNIST dataset with an accuracy of 0.9919, 0.9610, and 0.8451 respectively\n",
        "\n",
        "The accuracy could've been improved by: \n",
        "- Using a different Neural Network architecture for the local models\n",
        "- Increasing the amount of epochs\n",
        "- Increasing the amount of data\n",
        "- Using a different optimizer\n",
        "- Using a different loss function\n",
        "- Using a different activation function\n",
        "- Using a different learning rate\n",
        "\n",
        "\n",
        "I couldn't find a concrete way to aggregate the local models, so I chose not to pursue it due to time constraints. I believe that the local models could've been aggregated by using a voting system. The local models would vote for the class with the highest probability, and the global model would choose the class with the highest amount of votes. However, I couldn't find a concrete way to implement it.\n",
        "\n",
        "\n",
        "I hope you enjoyed this Notebook. If you have any questions or remarks, please feel free to contact me. Thank you for reading.\n",
        "\n",
        "\n",
        "\n"
      ],
      "metadata": {
        "id": "92x_iQQH0Hqd"
      }
    },
    {
      "cell_type": "code",
      "source": [],
      "metadata": {
        "id": "Vu8PuhJflz_k"
      },
      "execution_count": null,
      "outputs": []
    }
  ]
}